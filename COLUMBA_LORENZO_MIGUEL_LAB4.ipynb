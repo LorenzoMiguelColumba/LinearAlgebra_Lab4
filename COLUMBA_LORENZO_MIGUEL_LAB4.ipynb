{
  "nbformat": 4,
  "nbformat_minor": 0,
  "metadata": {
    "kernelspec": {
      "display_name": "Python 3",
      "language": "python",
      "name": "python3"
    },
    "language_info": {
      "codemirror_mode": {
        "name": "ipython",
        "version": 3
      },
      "file_extension": ".py",
      "mimetype": "text/x-python",
      "name": "python",
      "nbconvert_exporter": "python",
      "pygments_lexer": "ipython3",
      "version": "3.8.3"
    },
    "colab": {
      "name": "COLUMBA_LORENZO_MIGUEL_LAB4.ipynb",
      "provenance": [],
      "collapsed_sections": []
    }
  },
  "cells": [
    {
      "cell_type": "markdown",
      "metadata": {
        "id": "BFh-fRYDCWhM"
      },
      "source": [
        "# Linear Algebra for CpE\n",
        "## Laboratory 4 : Vector Operations"
      ]
    },
    {
      "cell_type": "markdown",
      "metadata": {
        "id": "NsKgTgs2Fdjh"
      },
      "source": [
        "Columba, Lorenzo Miguel L."
      ]
    },
    {
      "cell_type": "markdown",
      "metadata": {
        "id": "wq7bbEUgCWhO"
      },
      "source": [
        "Now that you have a fundamental knowledge about linear combination, we'll try to apply the fundamental operations"
      ]
    },
    {
      "cell_type": "markdown",
      "metadata": {
        "id": "McgBCmp0CWhP"
      },
      "source": [
        "### Objectives\n",
        "At the end of this activity you will be able to:\n",
        "1. Referesh knowledge on vector operations while being familiar with new operations such as products.\n",
        "2. Visualize vector operations.\n",
        "3. Perform vector operations using Python."
      ]
    },
    {
      "cell_type": "markdown",
      "metadata": {
        "id": "x6LNIQZUCWhQ"
      },
      "source": [
        "## Discussion"
      ]
    },
    {
      "cell_type": "code",
      "metadata": {
        "id": "AVRGiP7TCWhS"
      },
      "source": [
        "import numpy as np\n",
        "import matplotlib.pyplot as plt\n",
        "%matplotlib inline"
      ],
      "execution_count": 4,
      "outputs": []
    },
    {
      "cell_type": "markdown",
      "metadata": {
        "id": "hFbZgZ-8CWj0"
      },
      "source": [
        "## Activity"
      ]
    },
    {
      "cell_type": "markdown",
      "metadata": {
        "id": "LWEXiz39CWj2"
      },
      "source": [
        "### Task 1"
      ]
    },
    {
      "cell_type": "markdown",
      "metadata": {
        "id": "ijka_KPeCWj3"
      },
      "source": [
        "Make an explicit function (not using any of NumPy's preset functions) solving the modulus of a vector using the Euclidian Norm formula: \n",
        "$$||X|| = \\sqrt{\\sum_{n=1}^{N}x_n^2}$$\n",
        "Create a program flowchart for your algorithm and explain it in your methodology. Create 6 different vectors which their element count should not be lower than 4 elements. Explain the results at the results discussion section while comparing them to the `np.linalg.norm()` function."
      ]
    },
    {
      "cell_type": "code",
      "metadata": {
        "id": "1f4uCbPjCWj3"
      },
      "source": [
        "import math\n",
        "vect1 = np.array([11,2,3,4])\n",
        "vect2 = np.array([6,51,4,3])\n",
        "vect3 = np.array([10,21,4,16])\n",
        "vect4 = np.array([10,18,6,4])                      \n",
        "vect5 = np.array([4,3,2,1])\n",
        "vect6 = np.array([1,2,3,4])"
      ],
      "execution_count": 20,
      "outputs": []
    },
    {
      "cell_type": "code",
      "metadata": {
        "id": "bSiIAAWlCWj8",
        "outputId": "d85a1761-877f-4f8c-829e-9528eb7c4a30",
        "colab": {
          "base_uri": "https://localhost:8080/"
        }
      },
      "source": [
        "def my_euc_norm(list):\n",
        "  \n",
        "    square_elements = []\n",
        "    sum_vect = 0\n",
        "    for element in list:\n",
        "        square_elements.append(element ** 2)\n",
        "        \n",
        "\n",
        "    for elements in range(len(square_elements)):   \n",
        "        sum_vect = sum_vect + square_elements[elements];  \n",
        "    euc_norm = math.sqrt(sum_vect)\n",
        "    return euc_norm\n",
        "    \n",
        "print(\"Euclidian Norm using my Function\")\n",
        "print(\" Vector 1:\",  my_euc_norm(vect1))\n",
        "print(\" Vector 2:\",  my_euc_norm(vect2))\n",
        "print(\" Vector 3:\",  my_euc_norm(vect3))\n",
        "print(\" Vector 4:\",  my_euc_norm(vect4))\n",
        "print(\" Vector 5:\",  my_euc_norm(vect5))\n",
        "print(\" Vector 6:\",  my_euc_norm(vect6))"
      ],
      "execution_count": 21,
      "outputs": [
        {
          "output_type": "stream",
          "text": [
            "Euclidian Norm using my Function\n",
            " Vector 1: 12.24744871391589\n",
            " Vector 2: 51.59457335805772\n",
            " Vector 3: 28.513154858766505\n",
            " Vector 4: 21.817424229271428\n",
            " Vector 5: 5.477225575051661\n",
            " Vector 6: 5.477225575051661\n"
          ],
          "name": "stdout"
        }
      ]
    },
    {
      "cell_type": "code",
      "metadata": {
        "id": "OEC2T3_7CWkD",
        "outputId": "61e5e192-745a-492e-eb05-f80ecd4a8d27",
        "colab": {
          "base_uri": "https://localhost:8080/"
        }
      },
      "source": [
        "\n",
        "def numpy_euclidian_norm(vect):\n",
        "    numpy_euc_norm = np.linalg.norm(vect)\n",
        "    return numpy_euc_norm\n",
        "\n",
        "print(\"Euclidian Norm using Numpy Library\")\n",
        "print(\" Vector 1:\",  numpy_euclidian_norm(vect1))\n",
        "print(\" Vector 2:\",  numpy_euclidian_norm(vect2))\n",
        "print(\" Vector 3:\",  numpy_euclidian_norm(vect3))\n",
        "print(\" Vector 4:\",  numpy_euclidian_norm(vect4))\n",
        "print(\" Vector 5:\",  numpy_euclidian_norm(vect5))\n",
        "print(\" Vector 6:\",  numpy_euclidian_norm(vect6))"
      ],
      "execution_count": 22,
      "outputs": [
        {
          "output_type": "stream",
          "text": [
            "Euclidian Norm using Numpy Library\n",
            " Vector 1: 12.24744871391589\n",
            " Vector 2: 51.59457335805772\n",
            " Vector 3: 28.513154858766505\n",
            " Vector 4: 21.817424229271428\n",
            " Vector 5: 5.477225575051661\n",
            " Vector 6: 5.477225575051661\n"
          ],
          "name": "stdout"
        }
      ]
    },
    {
      "cell_type": "markdown",
      "metadata": {
        "id": "_y2aKhDOCWkK"
      },
      "source": [
        "### Task 2"
      ]
    },
    {
      "cell_type": "markdown",
      "metadata": {
        "id": "ZuVdmr0eCWkO"
      },
      "source": [
        "Make an explicit function (not using any of NumPy's preset functions nor the `@` operator) solving the inner product of two vectors using the inner product formula: \n",
        "$$A\\cdot B = \\sum_{n=1}^{N} a_n \\times b_n $$\n",
        "$$whereas: N = len(A) = len(B)$$\n",
        "Create a program flowchart for your algorithm and explain it in your methodology. Create 5 distinct pairs vectors which their element count should not be lower than 5 elements. Explain the results at the results discussion section while comparing them to the `np.inner()` function."
      ]
    },
    {
      "cell_type": "code",
      "metadata": {
        "id": "MEMHho0HCWkP"
      },
      "source": [
        "\n",
        "vects1 = np.array([1,2,3,4,5])                        \n",
        "vects2 = np.array([6,7,8,9,10])  \n",
        "\n",
        "vects3 = np.array([4,8,8,5,8])\n",
        "vects4 = np.array([5,9,4,6,2])       \n",
        "\n",
        "vects5 = np.array([8,4,5,1,6])\n",
        "vects6 = np.array([8,7,4,6,9])   \n",
        "\n",
        "vects7 = np.array([5,9,4,6,2])  \n",
        "vects8 = np.array([4,8,8,5,8])\n",
        "\n",
        "vects9 = np.array([4,8,8,5,8])                     \n",
        "vects10 = np.array([1,2,3,4,5])"
      ],
      "execution_count": 11,
      "outputs": []
    },
    {
      "cell_type": "code",
      "metadata": {
        "id": "VZqEHCPzCWkV",
        "outputId": "a1068dfc-da38-4799-db63-ac6053a22e27",
        "colab": {
          "base_uri": "https://localhost:8080/"
        }
      },
      "source": [
        "def my_dot_product(vec1, vec2):\n",
        "\n",
        "    multiply_pair = vec1*vec2\n",
        "    \n",
        "    sum_v = 0\n",
        "    for elements in range(len(multiply_pair)):    \n",
        "        sum_v = sum_v + multiply_pair[elements]; \n",
        "    return(sum_v)\n",
        "\n",
        "print(\"Dot Product using my Function\")\n",
        "print(\"Vector 1 and  2:\",  my_dot_product(vects1,vects2))\n",
        "print(\"Vector  3 and  4:\",  my_dot_product(vects3,vects4))\n",
        "print(\"Vector  5 and  6:\",  my_dot_product(vects5,vects6))\n",
        "print(\"Vector  7 and  8:\",  my_dot_product(vects7,vects8))\n",
        "print(\"Vector  9 and  10:\",  my_dot_product(vects9,vects10))"
      ],
      "execution_count": 15,
      "outputs": [
        {
          "output_type": "stream",
          "text": [
            "Dot Product using my Function\n",
            "Vector 1 and  2: 130\n",
            "Vector  3 and  4: 170\n",
            "Vector  5 and  6: 172\n",
            "Vector  7 and  8: 170\n",
            "Vector  9 and  10: 104\n"
          ],
          "name": "stdout"
        }
      ]
    },
    {
      "cell_type": "code",
      "metadata": {
        "id": "p2-Av7CNCWkf",
        "outputId": "6ac2c932-a9d7-446e-ae22-9210e02a4e39"
      },
      "source": [
        "\n",
        "def numpy_dot_product(vec1,vec2):\n",
        "    numpy_dot_prod = np.inner(vec1, vec2)\n",
        "    return numpy_dot_prod\n",
        "\n",
        "print(\"Dot Product using Numpy Library\")\n",
        "print(\"The dot product of vector 1 and vector 2:\", numpy_dot_product(vect1,vect2))\n",
        "print(\"The dot product of vector 3 and vector 4:\", numpy_dot_product(vect3,vect4))\n",
        "print(\"The dot product of vector 5 and vector 6:\", numpy_dot_product(vect5,vect6))\n",
        "print(\"The dot product of vector 7 and vector 8:\", numpy_dot_product(vect7,vect8))\n",
        "print(\"The dot product of vector 9 and vector 10:\", numpy_dot_product(vect9,vect10))\n"
      ],
      "execution_count": null,
      "outputs": [
        {
          "output_type": "stream",
          "text": [
            "Dot Product using Numpy Library\n",
            "The dot product of vector 1 and vector 2: 101\n",
            "The dot product of vector 3 and vector 4: 172\n",
            "The dot product of vector 5 and vector 6: 88\n",
            "The dot product of vector 7 and vector 8: 170\n",
            "The dot product of vector 9 and vector 10: 174\n"
          ],
          "name": "stdout"
        }
      ]
    },
    {
      "cell_type": "markdown",
      "metadata": {
        "id": "oK3VpLy4CWkk"
      },
      "source": [
        "### Task 3"
      ]
    },
    {
      "cell_type": "markdown",
      "metadata": {
        "id": "hJoqiFvKCWkn"
      },
      "source": [
        "Code the following vector operation and solve them using the given vector values"
      ]
    },
    {
      "cell_type": "markdown",
      "metadata": {
        "id": "DPnZsW1jCWko"
      },
      "source": [
        "$$ ((A^2 + B^2 + C^2) * (A * (B + A*B)./C))*||A + B + C||$$\n",
        "$$A = \\begin{bmatrix}-0.4\\\\0.3\\\\-0.6\\end{bmatrix}, B = \\begin{bmatrix}-0.2\\\\0.2\\\\1\\end{bmatrix}, C = \\begin{bmatrix}0.2\\\\0.1\\\\-0.5\\end{bmatrix}$$"
      ]
    },
    {
      "cell_type": "markdown",
      "metadata": {
        "id": "DaIVajeVCWkx"
      },
      "source": [
        "Create a program flowchart for your algorithm and explain it in your methodology. In your results, compare your answer to the expected output, visualize, and explain the resulting vector using a 3D plot."
      ]
    },
    {
      "cell_type": "code",
      "metadata": {
        "id": "Y9aSFK44CWky",
        "outputId": "2e0bbaf4-3fac-4358-84f6-7171eb854e8e",
        "colab": {
          "base_uri": "https://localhost:8080/"
        }
      },
      "source": [
        "A = np.array([-0.4,0.3,-0.6])\n",
        "B = np.array([-0.2,0.2,1])\n",
        "C = np.array([0.2,0.1,-0.5])\n",
        "\n",
        "first = (A@A + B@B + C@C)\n",
        "second = (A*(B+A*B)/C)\n",
        "third = (np.linalg.norm(A+B+C))\n",
        "\n",
        "final = first * second * third\n",
        "\n",
        "print(final)"
      ],
      "execution_count": 29,
      "outputs": [
        {
          "output_type": "stream",
          "text": [
            "[0.34769805 1.13001866 0.6953961 ]\n"
          ],
          "name": "stdout"
        }
      ]
    },
    {
      "cell_type": "markdown",
      "metadata": {
        "id": "AXD5YrIxCWk2"
      },
      "source": [
        "Expected answer: <br>\n",
        "`array([0.34769805, 1.13001866, 0.6953961 ])`"
      ]
    },
    {
      "cell_type": "code",
      "metadata": {
        "id": "47ZbcWpYCWk3",
        "outputId": "2a78379d-9e66-4c57-8384-428ffe1cf5ed",
        "colab": {
          "base_uri": "https://localhost:8080/",
          "height": 248
        }
      },
      "source": [
        "fig = plt.figure()\n",
        "ax = fig.gca(projection='3d')\n",
        "ax.quiver(0, 0, 0, final[0], final[1], final[2], colors='y')\n",
        "ax.set_xlim([0, 1.2])\n",
        "ax.set_ylim([0, 1.2])\n",
        "ax.set_zlim([0, 1.2])\n",
        "plt.show()"
      ],
      "execution_count": 30,
      "outputs": [
        {
          "output_type": "display_data",
          "data": {
            "image/png": "[encoded data removed]",
            "text/plain": [
              "<Figure size 432x288 with 1 Axes>"
            ]
          },
          "metadata": {
            "tags": [],
            "needs_background": "light"
          }
        }
      ]
    },
    {
      "cell_type": "markdown",
      "metadata": {
        "id": "B4x7d3TMCWk-"
      },
      "source": [
        "## Conclusion guide"
      ]
    },
    {
      "cell_type": "markdown",
      "metadata": {
        "id": "VCGWjTD1CWk_"
      },
      "source": [
        "For your conclusion synthesize the concept and application of the laboratory. Briefly discuss what you have learn and achieved in this activity. "
      ]
    }
  ]
}